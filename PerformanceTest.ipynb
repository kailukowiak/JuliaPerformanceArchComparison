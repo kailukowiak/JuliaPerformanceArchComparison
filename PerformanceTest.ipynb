{
 "cells": [
  {
   "cell_type": "markdown",
   "id": "brave-virginia",
   "metadata": {},
   "source": [
    "# Julia Performance Comparison \n",
    "\n",
    "## Comparing M1 MPB and ThinkPad with POP!_OS\n",
    "\n",
    "Quick, not super scientific comparison of the performance comparisons between Julia running on Apple's new silicon but under `Rosetta 2` and native julia on `x86` on a ThinkPad X1 Extreme Gen1. \n",
    "\n",
    "## Test 1\n",
    "\n",
    "A simple `sum` operation over a large array."
   ]
  },
  {
   "cell_type": "code",
   "execution_count": 12,
   "id": "insured-choice",
   "metadata": {},
   "outputs": [],
   "source": [
    "using BenchmarkTools"
   ]
  },
  {
   "cell_type": "code",
   "execution_count": 8,
   "id": "focused-drove",
   "metadata": {},
   "outputs": [
    {
     "data": {
      "text/plain": [
       "mysum (generic function with 1 method)"
      ]
     },
     "execution_count": 8,
     "metadata": {},
     "output_type": "execute_result"
    }
   ],
   "source": [
    "function mysum(x)\n",
    "    ans = 0\n",
    "    for i ∈ x\n",
    "        ans += i\n",
    "    end\n",
    "    return ans\n",
    "end"
   ]
  },
  {
   "cell_type": "code",
   "execution_count": 16,
   "id": "warming-procurement",
   "metadata": {},
   "outputs": [
    {
     "data": {
      "text/plain": [
       "10000000-element Vector{Float64}:\n",
       " 0.7049098863040579\n",
       " 0.9850604212250205\n",
       " 0.199557556309909\n",
       " 0.7875325606056156\n",
       " 0.9173894508789249\n",
       " 0.903552059671278\n",
       " 0.6311573531670116\n",
       " 0.9720758433610552\n",
       " 0.7741971960388618\n",
       " 0.5767345354448621\n",
       " 0.7803330895184466\n",
       " 0.7482204583853935\n",
       " 0.11006822312430509\n",
       " ⋮\n",
       " 0.3192230638665139\n",
       " 0.4651807654004587\n",
       " 0.7355048506062323\n",
       " 0.07030201856296037\n",
       " 0.9959014156193664\n",
       " 0.8655200891004864\n",
       " 0.19084989395865293\n",
       " 0.20224290064088013\n",
       " 0.8122256897545763\n",
       " 0.7528268245339282\n",
       " 0.2559012089079331\n",
       " 0.3586778114605962"
      ]
     },
     "execution_count": 16,
     "metadata": {},
     "output_type": "execute_result"
    }
   ],
   "source": [
    "x = rand(10^7)"
   ]
  },
  {
   "cell_type": "code",
   "execution_count": 17,
   "id": "respective-comparison",
   "metadata": {},
   "outputs": [
    {
     "data": {
      "text/plain": [
       "BenchmarkTools.Trial: \n",
       "  memory estimate:  16 bytes\n",
       "  allocs estimate:  1\n",
       "  --------------\n",
       "  minimum time:     40.697 ms (0.00% GC)\n",
       "  median time:      40.764 ms (0.00% GC)\n",
       "  mean time:        40.834 ms (0.00% GC)\n",
       "  maximum time:     44.990 ms (0.00% GC)\n",
       "  --------------\n",
       "  samples:          123\n",
       "  evals/sample:     1"
      ]
     },
     "execution_count": 17,
     "metadata": {},
     "output_type": "execute_result"
    }
   ],
   "source": [
    "@benchmark mysum(x)"
   ]
  },
  {
   "cell_type": "code",
   "execution_count": null,
   "id": "incorporated-hospital",
   "metadata": {},
   "outputs": [],
   "source": []
  }
 ],
 "metadata": {
  "kernelspec": {
   "display_name": "Julia 1.6.0-rc1",
   "language": "julia",
   "name": "julia-1.6"
  },
  "language_info": {
   "file_extension": ".jl",
   "mimetype": "application/julia",
   "name": "julia",
   "version": "1.6.0"
  }
 },
 "nbformat": 4,
 "nbformat_minor": 5
}
