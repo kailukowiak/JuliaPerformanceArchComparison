{
 "cells": [
  {
   "cell_type": "markdown",
   "metadata": {},
   "source": [
    "# Julia Performance Comparison \n",
    "\n",
    "## Comparing M1 MPB and ThinkPad with POP!_OS\n",
    "\n",
    "Quick, not super scientific comparison of the performance comparisons between Julia running on Apple's new silicon but under `Rosetta 2` and native julia on `x86` on a ThinkPad X1 Extreme Gen1. \n",
    "\n",
    "## Test 1\n",
    "\n",
    "A simple `sum` operation over a large array."
   ]
  },
  {
   "cell_type": "code",
   "execution_count": 5,
   "metadata": {},
   "outputs": [],
   "source": [
    "using BenchmarkTools\n",
    "using Random"
   ]
  },
  {
   "cell_type": "code",
   "execution_count": 2,
   "metadata": {},
   "outputs": [
    {
     "data": {
      "text/plain": [
       "mysum (generic function with 1 method)"
      ]
     },
     "execution_count": 2,
     "metadata": {},
     "output_type": "execute_result"
    }
   ],
   "source": [
    "function mysum(x)\n",
    "    ans = 0\n",
    "    for i ∈ x\n",
    "        ans += i\n",
    "    end\n",
    "    return ans\n",
    "end"
   ]
  },
  {
   "cell_type": "code",
   "execution_count": 6,
   "metadata": {},
   "outputs": [
    {
     "data": {
      "text/plain": [
       "10000000-element Vector{Float64}:\n",
       " 0.5331830160438613\n",
       " 0.4540291355871424\n",
       " 0.017686826714964354\n",
       " 0.17293302893695128\n",
       " 0.9589258763297348\n",
       " 0.9735659798036858\n",
       " 0.30386961108678245\n",
       " 0.17690859963285543\n",
       " 0.9569158240892588\n",
       " 0.5842841475628804\n",
       " 0.9374663045825038\n",
       " 0.1600060971420918\n",
       " 0.4229562655081418\n",
       " ⋮\n",
       " 0.32882289106772844\n",
       " 0.11673822733485961\n",
       " 0.30472965188287127\n",
       " 0.7491874057088357\n",
       " 0.30104943001412665\n",
       " 0.5300046257390552\n",
       " 0.23094176097866193\n",
       " 0.5631322630997619\n",
       " 0.4165490865850072\n",
       " 0.5260030837786516\n",
       " 0.8515973952707765\n",
       " 0.29104219911331186"
      ]
     },
     "execution_count": 6,
     "metadata": {},
     "output_type": "execute_result"
    }
   ],
   "source": [
    "Random.seed!(42)\n",
    "x = rand(10^7)"
   ]
  },
  {
   "cell_type": "code",
   "execution_count": 7,
   "metadata": {},
   "outputs": [
    {
     "data": {
      "text/plain": [
       "BenchmarkTools.Trial: \n",
       "  memory estimate:  16 bytes\n",
       "  allocs estimate:  1\n",
       "  --------------\n",
       "  minimum time:     20.371 ms (0.00% GC)\n",
       "  median time:      20.418 ms (0.00% GC)\n",
       "  mean time:        20.549 ms (0.00% GC)\n",
       "  maximum time:     23.945 ms (0.00% GC)\n",
       "  --------------\n",
       "  samples:          244\n",
       "  evals/sample:     1"
      ]
     },
     "execution_count": 7,
     "metadata": {},
     "output_type": "execute_result"
    }
   ],
   "source": [
    "@benchmark mysum(x)"
   ]
  },
  {
   "cell_type": "code",
   "execution_count": null,
   "metadata": {},
   "outputs": [],
   "source": []
  }
 ],
 "metadata": {
  "kernelspec": {
   "display_name": "Julia 1.6.0-rc1",
   "language": "julia",
   "name": "julia-1.6"
  },
  "language_info": {
   "file_extension": ".jl",
   "mimetype": "application/julia",
   "name": "julia",
   "version": "1.6.0"
  }
 },
 "nbformat": 4,
 "nbformat_minor": 5
}
